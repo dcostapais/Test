{
 "cells": [
  {
   "cell_type": "code",
   "execution_count": null,
   "id": "571ab93a",
   "metadata": {},
   "outputs": [
    {
     "data": {
      "application/vnd.jupyter.widget-view+json": {
       "model_id": "9eea69ba32874170bdd5967fb24b0ea0",
       "version_major": 2,
       "version_minor": 0
      },
      "text/plain": [
       "VBox(children=(Dropdown(description='Mode:', options=('State-space', 'Transfer Function'), value='State-space'…"
      ]
     },
     "metadata": {},
     "output_type": "display_data"
    },
    {
     "data": {
      "application/vnd.jupyter.widget-view+json": {
       "model_id": "5cc087f64b0e4d79aae08e5919d74e94",
       "version_major": 2,
       "version_minor": 0
      },
      "text/plain": [
       "Output()"
      ]
     },
     "metadata": {},
     "output_type": "display_data"
    }
   ],
   "source": [
    "import numpy as np\n",
    "import matplotlib.pyplot as plt\n",
    "import control\n",
    "import ipywidgets as widgets\n",
    "import sympy as sp\n",
    "\n",
    "# Definiamo s come simbolo di Laplace\n",
    "s = sp.symbols('s')\n",
    "\n",
    "# Funzione per convertire un'espressione simbolica in TransferFunction\n",
    "def sympy_to_tf(expr):\n",
    "    # Otteniamo numeratore e denominatore come polinomi\n",
    "    num, den = sp.fraction(sp.simplify(expr))\n",
    "    # Convertiamo in liste di coefficienti (dal termine più alto)\n",
    "    num_coeffs = [float(coef) for coef in sp.Poly(num, s).all_coeffs()]\n",
    "    den_coeffs = [float(coef) for coef in sp.Poly(den, s).all_coeffs()]\n",
    "    return control.TransferFunction(num_coeffs, den_coeffs)\n",
    "\n",
    "# Funzione per plottare la risposta\n",
    "def plot_response(expr_input, input_type=\"step\", freq=1.0, t_end=10):\n",
    "    # Convertiamo l'input in espressione sympy\n",
    "    try:\n",
    "        expr = sp.sympify(expr_input)\n",
    "    except Exception as e:\n",
    "        print(\"Errore nell'espressione:\", e)\n",
    "        return\n",
    "    \n",
    "    # Convertiamo in TransferFunction\n",
    "    try:\n",
    "        system = sympy_to_tf(expr)\n",
    "    except Exception as e:\n",
    "        print(\"Errore nella conversione in TransferFunction:\", e)\n",
    "        return\n",
    "\n",
    "    # Tempo di simulazione\n",
    "    t = np.linspace(0, t_end, 1000)\n",
    "\n",
    "    # Selezione input\n",
    "    if input_type == \"step\":\n",
    "        t, y = control.step_response(system, T=t)\n",
    "        u = None\n",
    "    elif input_type == \"impulse\":\n",
    "        t, y = control.impulse_response(system, T=t)\n",
    "        u = None\n",
    "    elif input_type == \"ramp\":\n",
    "        u = t\n",
    "        t, y = control.forced_response(system, T=t, U=u)\n",
    "    elif input_type == \"sine\":\n",
    "        u = np.sin(freq * t)\n",
    "        t, y = control.forced_response(system, T=t, U=u)\n",
    "    else:\n",
    "        raise ValueError(\"Input non supportato\")\n",
    "\n",
    "    # Plot\n",
    "    plt.figure(figsize=(8,4))\n",
    "    plt.plot(t, y, label=\"Output y(t)\", color=\"tab:blue\", linewidth=2)\n",
    "    if u is not None:\n",
    "        plt.plot(t, u, \"--\", label=\"Input u(t)\", color=\"tab:orange\", linewidth=1.5)\n",
    "    plt.title(f\"Time Response ({input_type})\", fontsize=14)\n",
    "    plt.xlabel(\"Tempo [s]\", fontsize=12)\n",
    "    plt.ylabel(\"Ampiezza\", fontsize=12)\n",
    "    plt.grid(True, linestyle=\"--\", alpha=0.7)\n",
    "    plt.legend()\n",
    "    plt.show()\n",
    "\n",
    "# Widget interattivi\n",
    "expr_text = widgets.Text(value=\"(s+1)/(s+2)\", description=\"TF (s):\", layout=widgets.Layout(width='400px'))\n",
    "\n",
    "input_buttons = widgets.ToggleButtons(\n",
    "    options=[\"step\", \"impulse\", \"ramp\", \"sine\"],\n",
    "    value=\"step\",\n",
    "    description=\"Input:\",\n",
    "    button_style=\"info\",\n",
    "    tooltips=[\"Step\", \"Impulse\", \"Ramp\", \"Sine\"],\n",
    "    style={'description_width': 'initial'}\n",
    ")\n",
    "\n",
    "freq_slider = widgets.FloatSlider(value=1.0, min=0.1, max=10.0, step=0.1, description=\"Freq (sine):\")\n",
    "tend_slider = widgets.FloatSlider(value=10, min=1, max=50, step=1, description=\"Tempo max:\")\n",
    "\n",
    "ui = widgets.VBox([expr_text, input_buttons, freq_slider, tend_slider])\n",
    "\n",
    "out = widgets.interactive_output(\n",
    "    lambda expr_input, input_type, freq, t_end: plot_response(\n",
    "        expr_input, input_type, freq, t_end\n",
    "    ),\n",
    "    {\n",
    "        \"expr_input\": expr_text,\n",
    "        \"input_type\": input_buttons,\n",
    "        \"freq\": freq_slider,\n",
    "        \"t_end\": tend_slider,\n",
    "    }\n",
    ")\n",
    "\n",
    "display(ui, out)\n",
    "\n",
    "\n",
    "\n"
   ]
  }
 ],
 "metadata": {
  "kernelspec": {
   "display_name": "base",
   "language": "python",
   "name": "python3"
  },
  "language_info": {
   "codemirror_mode": {
    "name": "ipython",
    "version": 3
   },
   "file_extension": ".py",
   "mimetype": "text/x-python",
   "name": "python",
   "nbconvert_exporter": "python",
   "pygments_lexer": "ipython3",
   "version": "3.12.7"
  }
 },
 "nbformat": 4,
 "nbformat_minor": 5
}
