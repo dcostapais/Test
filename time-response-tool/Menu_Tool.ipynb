{
 "cells": [
  {
   "cell_type": "markdown",
   "id": "13f246be",
   "metadata": {},
   "source": [
    "\n",
    "# DRAFT - TIME RESPONSE TOOL\n",
    "\n",
    "RUN THE CELLS BELOW AND CHOOSE THE TOOL YOU WANT TO OPEN AND USE:\n",
    "\n",
    "- **LTI Matrix** → Time Response given an LTI Matrix or a Non-linear function and an input. \n",
    "- **Transfer Functions** → Time Response given a Transfer Function and an input.\n"
   ]
  },
  {
   "cell_type": "code",
   "execution_count": 3,
   "id": "dd654141",
   "metadata": {},
   "outputs": [
    {
     "data": {
      "text/html": [
       "\n",
       "<style>\n",
       ".widget-label, .custom-title {\n",
       "    font-weight: bold;\n",
       "    font-size: 16px;\n",
       "}\n",
       "\n",
       "button.widget-button {\n",
       "    font-weight: bold;\n",
       "    font-size: 18px;\n",
       "    border-radius: 8px;\n",
       "    padding: 10px 20px;\n",
       "    background-color: #007acc;\n",
       "    color: white;\n",
       "}\n",
       "\n",
       "button.widget-button:hover {\n",
       "    background-color: #005f99 !important;\n",
       "}\n",
       "</style>\n"
      ],
      "text/plain": [
       "<IPython.core.display.HTML object>"
      ]
     },
     "execution_count": 3,
     "metadata": {},
     "output_type": "execute_result"
    }
   ],
   "source": [
    "import nbformat\n",
    "from IPython.display import display, clear_output, HTML\n",
    "import ipywidgets as widgets\n",
    "from IPython import get_ipython\n",
    "\n",
    "\n",
    "HTML(\"\"\"\n",
    "<style>\n",
    ".widget-label, .custom-title {\n",
    "    font-weight: bold;\n",
    "    font-size: 16px;\n",
    "}\n",
    "\n",
    "button.widget-button {\n",
    "    font-weight: bold;\n",
    "    font-size: 18px;\n",
    "    border-radius: 8px;\n",
    "    padding: 10px 20px;\n",
    "    background-color: #007acc;\n",
    "    color: white;\n",
    "}\n",
    "\n",
    "button.widget-button:hover {\n",
    "    background-color: #005f99 !important;\n",
    "}\n",
    "</style>\n",
    "\"\"\")\n"
   ]
  },
  {
   "cell_type": "code",
   "execution_count": 4,
   "id": "4dbfb09e",
   "metadata": {},
   "outputs": [
    {
     "data": {
      "application/vnd.jupyter.widget-view+json": {
       "model_id": "c3fb0776e78d41ce89a90039a31719b1",
       "version_major": 2,
       "version_minor": 0
      },
      "text/plain": [
       "HBox(children=(Button(description='LTI Matrix', layout=Layout(height='60px', width='400px'), style=ButtonStyle…"
      ]
     },
     "metadata": {},
     "output_type": "display_data"
    },
    {
     "data": {
      "application/vnd.jupyter.widget-view+json": {
       "model_id": "85dc62b99ad447efaace3b5569e1bd7b",
       "version_major": 2,
       "version_minor": 0
      },
      "text/plain": [
       "Output()"
      ]
     },
     "metadata": {},
     "output_type": "display_data"
    }
   ],
   "source": [
    "btn_lti = widgets.Button(description=\"LTI Matrix\", button_style=\"\", layout=widgets.Layout(width=\"400px\", height=\"60px\"))\n",
    "btn_tf = widgets.Button(description=\"Transfer Functions\", layout=widgets.Layout(width=\"400px\", height=\"60px\"))\n",
    "output = widgets.Output()\n",
    "\n",
    "def run_notebook(path):\n",
    "    with open(path, \"r\", encoding=\"utf-8\") as f:\n",
    "        nb = nbformat.read(f, as_version=4)\n",
    "    shell = get_ipython()\n",
    "    for cell in nb.cells:\n",
    "        if cell.cell_type == \"code\":\n",
    "            shell.run_cell(cell.source)\n",
    "\n",
    "def on_lti_clicked(_):\n",
    "    with output:\n",
    "        clear_output()\n",
    "        run_notebook(\"ODE_LTI.ipynb\")\n",
    "\n",
    "def on_tf_clicked(_):\n",
    "    with output:\n",
    "        clear_output()\n",
    "        run_notebook(\"TF.ipynb\")\n",
    "\n",
    "btn_lti.on_click(on_lti_clicked)\n",
    "btn_tf.on_click(on_tf_clicked)\n",
    "\n",
    "display(widgets.HBox([btn_lti, btn_tf]))\n",
    "display(output)\n"
   ]
  }
 ],
 "metadata": {
  "kernelspec": {
   "display_name": "base",
   "language": "python",
   "name": "python3"
  },
  "language_info": {
   "codemirror_mode": {
    "name": "ipython",
    "version": 3
   },
   "file_extension": ".py",
   "mimetype": "text/x-python",
   "name": "python",
   "nbconvert_exporter": "python",
   "pygments_lexer": "ipython3",
   "version": "3.12.7"
  }
 },
 "nbformat": 4,
 "nbformat_minor": 5
}
