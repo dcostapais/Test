{
 "cells": [
  {
   "cell_type": "markdown",
   "id": "13f246be",
   "metadata": {},
   "source": [
    "# Interactive Tools for Dynamic System Analysis\n",
    "\n",
    "This notebook provides an integrated environment to study and simulate **linear time-invariant (LTI) systems** using different representations.  \n",
    "Through the tools included here, you can explore, compare, and visualize system behavior under a variety of inputs and conditions.\n",
    "\n",
    "### Available Tools\n",
    "\n",
    "- **LTI Matrix and ODE in state-space form Tool**  \n",
    "  Define a system either by:  \n",
    "  - directly specifying its **state-space matrices (A, B, C, D)**, or  \n",
    "  - providing a **nonlinear function** and then analyzing its linearization around an equilibrium point.  \n",
    "  You can set initial conditions, choose input types (step, impulse, ramp, sinusoidal, or custom), and visualize the corresponding time response.  \n",
    "  This tool makes it possible to compare the exact nonlinear dynamics with the linearized approximation.\n",
    "\n",
    "- **Transfer Function (TF) Tool**  \n",
    "  Define a system using its **transfer function**.  \n",
    "  You can enter symbolic expressions or coefficients of numerator and denominator.  \n",
    "  As with the ODE_LTI tool, you can select different input signals (step, impulse, ramp, sinusoidal, or custom) and visualize the corresponding system response.  \n",
    "  The tool automatically checks for system properties (e.g., proper vs. improper) and generates the plots accordingly.\n",
    "\n",
    "---\n",
    "\n",
    "### How to Use\n",
    "\n",
    "#### LTI Matrix and ODE in state-space form Tool\n",
    "1. First, choose whether to work with **Matrices** or **Linearized** mode.  \n",
    "   - If you select **Matrices**, directly enter the state-space matrices (A, B, C, D).  \n",
    "   - If you select **Linearized**, first write the **nonlinear function** in the given box, then press **Find equilibrium points** and select the desired equilibrium point from the dropdown menu.  \n",
    "2. Choose the input signal (step, impulse, sinusoidal, or ramp).  \n",
    "3. Optionally, set **initial conditions** and adjust the **simulation time horizon**.  \n",
    "4. Press **Show Non-linear** to simulate the nonlinear system or **Show Time-Domain specifications** to analyze the main performance metrics.\n",
    "\n",
    "#### Transfer Function Tool\n",
    "1. Enter the transfer function either as symbolic expression or as numerator/denominator coefficients.  \n",
    "2. Choose the input signal (step, impulse, sine, ramp, or custom).  \n",
    "3. Run the simulation to see the response.  \n",
    "4. You can also press **Show Time-Domain specifications** to compute performance metrics.\n",
    "\n",
    "---\n",
    "\n",
    "### General Features\n",
    "- The **Time-Domain specifications button** is available in both tools to analyze settling time, rise time, overshoot, etc.  \n",
    "- The **Reset button** restores all parameters to their default values in both tools.  \n",
    "\n",
    "These tools are meant to help understand the connection between system representations, stability, and time responses in an interactive way.\n",
    "\n",
    "\n"
   ]
  },
  {
   "cell_type": "code",
   "execution_count": null,
   "id": "dd654141",
   "metadata": {},
   "outputs": [
    {
     "data": {
      "text/html": [
       "\n",
       "<style>\n",
       ".widget-label, .custom-title {\n",
       "    font-weight: bold;\n",
       "    font-size: 16px;\n",
       "}\n",
       "\n",
       "button.widget-button {\n",
       "    font-weight: bold;\n",
       "    font-size: 18px;\n",
       "    border-radius: 8px;\n",
       "    padding: 10px 20px;\n",
       "    background-color: #007acc;\n",
       "    color: white;\n",
       "}\n",
       "\n",
       "button.widget-button:hover {\n",
       "    background-color: #005f99 !important;\n",
       "}\n",
       "</style>\n"
      ],
      "text/plain": [
       "<IPython.core.display.HTML object>"
      ]
     },
     "execution_count": 8,
     "metadata": {},
     "output_type": "execute_result"
    }
   ],
   "source": [
    "import nbformat\n",
    "from IPython.display import display, clear_output, HTML\n",
    "import ipywidgets as widgets\n",
    "from IPython import get_ipython\n",
    "\n",
    "\n",
    "HTML(\"\"\"\n",
    "<style>\n",
    ".widget-label, .custom-title {\n",
    "    font-weight: bold;\n",
    "    font-size: 16px;\n",
    "}\n",
    "\n",
    "button.widget-button {\n",
    "    font-weight: bold;\n",
    "    font-size: 18px;\n",
    "    border-radius: 8px;\n",
    "    padding: 10px 20px;\n",
    "    background-color: #007acc;\n",
    "    color: white;\n",
    "}\n",
    "\n",
    "button.widget-button:hover {\n",
    "    background-color: #005f99 !important;\n",
    "}\n",
    "</style>\n",
    "\"\"\")\n"
   ]
  },
  {
   "cell_type": "code",
   "execution_count": null,
   "id": "4dbfb09e",
   "metadata": {},
   "outputs": [
    {
     "data": {
      "application/vnd.jupyter.widget-view+json": {
       "model_id": "1128f67778884ff8a0f6bb407413cf98",
       "version_major": 2,
       "version_minor": 0
      },
      "text/plain": [
       "HBox(children=(Button(description='LTI Matrix', layout=Layout(height='60px', width='400px'), style=ButtonStyle…"
      ]
     },
     "metadata": {},
     "output_type": "display_data"
    },
    {
     "data": {
      "application/vnd.jupyter.widget-view+json": {
       "model_id": "14d6a3afecab44319406f7ac1b2ff87f",
       "version_major": 2,
       "version_minor": 0
      },
      "text/plain": [
       "Output()"
      ]
     },
     "metadata": {},
     "output_type": "display_data"
    }
   ],
   "source": [
    "btn_lti = widgets.Button(description=\"LTI Matrix\", button_style=\"\", layout=widgets.Layout(width=\"400px\", height=\"60px\"))\n",
    "btn_tf = widgets.Button(description=\"Transfer Functions\", layout=widgets.Layout(width=\"400px\", height=\"60px\"))\n",
    "output = widgets.Output()\n",
    "\n",
    "def run_notebook(path):\n",
    "    with open(path, \"r\", encoding=\"utf-8\") as f:\n",
    "        nb = nbformat.read(f, as_version=4)\n",
    "    shell = get_ipython()\n",
    "    for cell in nb.cells:\n",
    "        if cell.cell_type == \"code\":\n",
    "            shell.run_cell(cell.source)\n",
    "\n",
    "def on_lti_clicked(_):\n",
    "    with output:\n",
    "        clear_output()\n",
    "        run_notebook(\"ODE_LTI.ipynb\")\n",
    "\n",
    "def on_tf_clicked(_):\n",
    "    with output:\n",
    "        clear_output()\n",
    "        run_notebook(\"TF.ipynb\")\n",
    "\n",
    "btn_lti.on_click(on_lti_clicked)\n",
    "btn_tf.on_click(on_tf_clicked)\n",
    "\n",
    "display(widgets.HBox([btn_lti, btn_tf]))\n",
    "display(output)\n"
   ]
  }
 ],
 "metadata": {
  "kernelspec": {
   "display_name": "base",
   "language": "python",
   "name": "python3"
  },
  "language_info": {
   "codemirror_mode": {
    "name": "ipython",
    "version": 3
   },
   "file_extension": ".py",
   "mimetype": "text/x-python",
   "name": "python",
   "nbconvert_exporter": "python",
   "pygments_lexer": "ipython3",
   "version": "3.12.7"
  }
 },
 "nbformat": 4,
 "nbformat_minor": 5
}
